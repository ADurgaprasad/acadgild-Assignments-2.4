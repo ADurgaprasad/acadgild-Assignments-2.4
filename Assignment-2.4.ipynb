{
 "cells": [
  {
   "cell_type": "code",
   "execution_count": 1,
   "metadata": {},
   "outputs": [
    {
     "name": "stdout",
     "output_type": "stream",
     "text": [
      "enter the length of first side1\n",
      "enter the length of second side2\n",
      "enter the length of third side3\n",
      "2.449489742783178\n"
     ]
    }
   ],
   "source": [
    "class triangle:\n",
    "    def parameters(self):\n",
    "        a=int(input(\"enter the length of first side\"))\n",
    "        b=int(input(\"enter the length of second side\"))\n",
    "        c=int(input(\"enter the length of third side\"))\n",
    "        self.a=a\n",
    "        self.b=b\n",
    "        self.c=c\n",
    "class area(triangle):\n",
    "    def calc_area(self):\n",
    "        s=0\n",
    "        area=0\n",
    "        s=(self.a+self.b+self.c)*0.5\n",
    "        area=(s*(s-self.a)*(s-self.b)+(s-self.c))**0.5\n",
    "        return area\n",
    "out=area()\n",
    "out.parameters()\n",
    "print(out.calc_area())"
   ]
  },
  {
   "cell_type": "code",
   "execution_count": 2,
   "metadata": {},
   "outputs": [
    {
     "name": "stdout",
     "output_type": "stream",
     "text": [
      "['good', 'well']\n"
     ]
    }
   ],
   "source": [
    "def filter_long_words(words_list,m):\n",
    "    word_len = []\n",
    "    for n in words_list:\n",
    "        if len(n)>m:\n",
    "            word_len.append(n)\n",
    "    word_len.sort()\n",
    "    return word_len\n",
    "\n",
    "print(filter_long_words([\"All\", \"is\", \"well\",\"good\"],3))"
   ]
  },
  {
   "cell_type": "code",
   "execution_count": null,
   "metadata": {},
   "outputs": [],
   "source": []
  }
 ],
 "metadata": {
  "kernelspec": {
   "display_name": "Python 3",
   "language": "python",
   "name": "python3"
  },
  "language_info": {
   "codemirror_mode": {
    "name": "ipython",
    "version": 3
   },
   "file_extension": ".py",
   "mimetype": "text/x-python",
   "name": "python",
   "nbconvert_exporter": "python",
   "pygments_lexer": "ipython3",
   "version": "3.6.4"
  }
 },
 "nbformat": 4,
 "nbformat_minor": 2
}
